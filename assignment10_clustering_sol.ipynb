{
 "cells": [
  {
   "cell_type": "markdown",
   "metadata": {
    "collapsed": true
   },
   "source": [
    "# Assignment 10: Clustering"
   ]
  },
  {
   "cell_type": "markdown",
   "metadata": {},
   "source": [
    "Only use the already imported libraries numpy and matplotlib as well as the Python standard library."
   ]
  },
  {
   "cell_type": "markdown",
   "metadata": {},
   "source": [
    "- *Put your names here*\n",
    "\n",
    "**Indicate here whether you want to present.*"
   ]
  },
  {
   "cell_type": "code",
   "execution_count": 202,
   "metadata": {},
   "outputs": [],
   "source": [
    "# Load required packages and dataset. Do not modify.\n",
    "import matplotlib.pyplot as plt\n",
    "import numpy as np\n",
    "\n",
    "\n",
    "def load_iris_dataset():\n",
    "    from sklearn import datasets\n",
    "    iris = datasets.load_iris()\n",
    "    X = iris.data\n",
    "    y = iris.target\n",
    "    return X, y\n",
    "    \n",
    "X, y = load_iris_dataset()"
   ]
  },
  {
   "cell_type": "markdown",
   "metadata": {},
   "source": [
    "## Task 1: Expectation Maximization for Gaussian Mixture\n",
    "\n",
    "1. Implement the expectation maximization algorithm for Gaussian mixtures as presented in the lecture. Choose random samples to initialize the model parameters for each cluster. Your algorithm can be limited to the 1-dimensional case, which is shown in the example of the lecture.\n",
    "\n",
    "2. Compute the clustering for any single feature of the Iris dataset. Plot your results and compare them visually to the actual classification labels."
   ]
  },
  {
   "cell_type": "code",
   "execution_count": 218,
   "metadata": {},
   "outputs": [],
   "source": [
    "class GaussianMixtureEM(object):\n",
    "    def __init__(self, n_components, max_iter=100):\n",
    "        self.n_components = n_components  # Number of Gaussian distributions that make up the mixture\n",
    "    \n",
    "        self.mean = None\n",
    "        self.var = None\n",
    "        \n",
    "        self.max_iter = 100\n",
    "        self.required_iter = 0\n",
    "        \n",
    "    def fit(self, X):\n",
    "        assert len(X.shape) == 1  # ensure that X is one-dimensional\n",
    "        \n",
    "        self.required_iter = 0\n",
    "        \n",
    "        # Initialize model.\n",
    "        # Use random samples from X to initialize means.\n",
    "        self.mean = np.random.choice(X, (self.n_components,), replace=False)\n",
    "        self.var = np.array([np.mean((X - self.mean[cid])**2) for cid in range(self.n_components)])        \n",
    "        \n",
    "        prev_likelihood = None\n",
    "        \n",
    "        # Iterate until convergence or maximum number of iterations.\n",
    "        for _ in range(self.max_iter):            \n",
    "            # Expectation: How probable are current model parameters for X\n",
    "            density = np.zeros((X.shape[0], self.n_components)) \n",
    "            z = np.zeros((X.shape[0], self.n_components))  # weights\n",
    "            for cid in range(self.n_components):\n",
    "                density[:, cid] = self._density(X, cid)\n",
    "                z[:, cid] = density[:, cid] / np.sum(density[:, cid])\n",
    "                \n",
    "            # Log-Likelihood: Is the algorithm converging?\n",
    "            # I use proportional change in likelihood to identify convergence.\n",
    "            likelihood = np.sum(np.log(np.sum(z*density, axis=1)))\n",
    "            if prev_likelihood and (np.abs(prev_likelihood - likelihood) / np.abs(prev_likelihood) < 0.01):\n",
    "                print('Finished training due to convergence.')\n",
    "                break\n",
    "            prev_likelihood = likelihood\n",
    "\n",
    "            # Maximization: Update model parameters based new weights\n",
    "            for cid in range(self.n_components):\n",
    "                self.var[cid] = np.sum(z[:, cid] * (X - self.mean[cid])**2) / np.sum(z[:, cid])\n",
    "                self.mean[cid] = np.sum(z[:, cid] * X) / np.sum(z[:, cid])\n",
    "                \n",
    "            self.required_iter += 1\n",
    "                            \n",
    "    def predict(self, X):\n",
    "        # Number the clusters from 0 to n_components-1.\n",
    "        # Return the cluster label assignments for each sample in X as a vector.\n",
    "        density = np.zeros((X.shape[0], self.n_components))\n",
    "        for cid in range(self.n_components):\n",
    "            density[:, cid] = self._density(X, cid)\n",
    "        return np.argmax(density, axis=1)\n",
    "            \n",
    "    def _density(self, X, cid):\n",
    "        a = 1/np.sqrt(2*np.pi*self.var[cid])\n",
    "        b = np.exp(-np.power(X - self.mean[cid], 2)/(2*self.var[cid]))\n",
    "        return  a * b\n",
    "    "
   ]
  },
  {
   "cell_type": "code",
   "execution_count": 234,
   "metadata": {},
   "outputs": [
    {
     "name": "stdout",
     "output_type": "stream",
     "text": [
      "Finished training due to convergence.\n"
     ]
    },
    {
     "data": {
      "image/png": "[encoded data removed]",
      "text/plain": [
       "<Figure size 432x288 with 1 Axes>"
      ]
     },
     "metadata": {
      "needs_background": "light"
     },
     "output_type": "display_data"
    }
   ],
   "source": [
    "feature_idx = 1\n",
    "other_feature_idx = 0\n",
    "\n",
    "gm = GaussianMixtureEM(3)\n",
    "gm.fit(X[:, feature_idx])\n",
    "clusters = gm.predict(X[:, feature_idx])\n",
    "\n",
    "colors = ['C0', 'C1', 'C2']\n",
    "markers = ['+', '*', 'o']\n",
    "\n",
    "fig, ax = plt.subplots()\n",
    "for i, (x1, x2) in enumerate(zip(X[:, feature_idx], X[:, other_feature_idx])):\n",
    "    ax.scatter([x1], [x2], c=colors[clusters[i]], marker=markers[y[i]])\n",
    "ax.set_xlabel(f'Feature {feature_idx}')\n",
    "ax.set_ylabel(f'Feature {other_feature_idx}');"
   ]
  },
  {
   "cell_type": "markdown",
   "metadata": {},
   "source": [
    "## Task 2: Metrics\n",
    "In this task, you will implement the silhoutte coefficient as an intrinsic evaluation measure and purity as an extrinsic evaluation measure. You will use these metrics to evaluate the [`sklearn.mixture.GaussianMixture`](https://scikit-learn.org/stable/modules/generated/sklearn.mixture.GaussianMixture.html) model implemented in scikit-learn.\n",
    "\n",
    "1. Implement the silhouette coefficient.\n",
    "2. Implement purity.\n",
    "3. Compute both metrics for different `n_components`. Plot the results.\n"
   ]
  },
  {
   "cell_type": "code",
   "execution_count": 33,
   "metadata": {},
   "outputs": [],
   "source": [
    "def silhouette(X, cluster_labels):\n",
    "    \"\"\"\n",
    "    X.shape = (N, D), where N is the number of samples and D is the number of input features.\n",
    "    cluster_labels.shape = (N,)\n",
    "    \"\"\"\n",
    "    N = X.shape[0]\n",
    "    n_clusters = np.max(cluster_labels) + 1\n",
    "    s = np.zeros((N,))\n",
    "    for i in range(N):\n",
    "        same_cluster = X[cluster_labels == cluster_labels[i]]\n",
    "        ai = 1/(N-1) * np.sum(np.sqrt(np.sum(np.power(X[i] - same_cluster, 2), axis=1)))\n",
    "        \n",
    "        bi = np.inf\n",
    "        for clabel in range(n_clusters):\n",
    "            if clabel == cluster_labels[i]:\n",
    "                continue\n",
    "                \n",
    "            other_cluster = X[cluster_labels == clabel]\n",
    "            di = np.mean(np.sqrt(np.sum(np.power(X[i] - other_cluster, 2), axis=1)))\n",
    "            if di < bi:\n",
    "                bi = di\n",
    "            \n",
    "        s[i] = (bi - ai) / max(ai, bi)\n",
    "        \n",
    "    return np.mean(s)\n",
    "\n",
    "def purity(X, y, cluster_labels):\n",
    "    \"\"\"\n",
    "    y are the true class labels, while cluster_labels are the labels automatically assigned during clustering.\n",
    "    \"\"\"\n",
    "    N = X.shape[0]\n",
    "    n_clusters = np.max(cluster_labels) + 1\n",
    "    \n",
    "    return 1/N * np.sum([np.max(np.bincount(y[cluster_labels == j])) for j in range(n_clusters)])\n"
   ]
  },
  {
   "cell_type": "code",
   "execution_count": 28,
   "metadata": {},
   "outputs": [],
   "source": [
    "from sklearn.mixture import GaussianMixture\n",
    "\n",
    "s = []\n",
    "p = []\n",
    "\n",
    "n_components = list(range(2, 32, 2))\n",
    "\n",
    "for n in n_components:\n",
    "    mixture = GaussianMixture(n_components=n)\n",
    "    mixture.fit(X)\n",
    "    cluster_labels = mixture.predict(X)\n",
    "    s.append(silhouette(X, cluster_labels))\n",
    "    p.append(purity(X, y, cluster_labels))\n"
   ]
  },
  {
   "cell_type": "code",
   "execution_count": 34,
   "metadata": {},
   "outputs": [
    {
     "data": {
      "image/png": "[encoded data removed]",
      "text/plain": [
       "<Figure size 576x432 with 2 Axes>"
      ]
     },
     "metadata": {
      "needs_background": "light"
     },
     "output_type": "display_data"
    }
   ],
   "source": [
    "fig, ax = plt.subplots(2, figsize=(8, 6))\n",
    "ax[0].bar(n_components, s)\n",
    "ax[1].bar(n_components, p)\n",
    "ax[0].set_ylabel('avg silhouette')\n",
    "ax[1].set_ylabel('avg purity')\n",
    "ax[1].set_xlabel('number of clusters')\n",
    "ax[0].set_ylim((0.0, 1.0))\n",
    "ax[1].set_xticks(n_components);"
   ]
  },
  {
   "cell_type": "code",
   "execution_count": null,
   "metadata": {},
   "outputs": [],
   "source": []
  }
 ],
 "metadata": {
  "kernelspec": {
   "display_name": "Python 3",
   "language": "python",
   "name": "python3"
  },
  "language_info": {
   "codemirror_mode": {
    "name": "ipython",
    "version": 3
   },
   "file_extension": ".py",
   "mimetype": "text/x-python",
   "name": "python",
   "nbconvert_exporter": "python",
   "pygments_lexer": "ipython3",
   "version": "3.8.0"
  }
 },
 "nbformat": 4,
 "nbformat_minor": 1
}
